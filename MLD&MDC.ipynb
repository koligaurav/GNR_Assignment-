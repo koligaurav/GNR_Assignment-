import numpy as np
import matplotlib.pyplot as plt
import rasterio
import gradio as gr
from scipy.stats import multivariate_normal

# Function to load a single .tif image
def load_single_tif_image(image_path):
    with rasterio.open(image_path) as src:
        # Read all bands (assuming the image has more than 1 band)
        image_data = src.read()
        # Flatten image data into 2D array (bands x pixels)
        image_data = image_data.reshape(image_data.shape[0], -1).T  # Each pixel will be a row
    return image_data

# Maximum Likelihood Classifier
def maximum_likelihood_classifier(data, means, covariances):
    likelihoods = [
        multivariate_normal(mean=means[i], cov=covariances[i]).pdf(data)
        for i in range(len(means))
    ]
    return np.argmax(likelihoods, axis=0)

# Minimum Distance to Mean Classifier
def minimum_distance_classifier(data, means):
    distances = [np.linalg.norm(data - mean, axis=1) for mean in means]
    return np.argmin(distances, axis=0)

# Classification and Visualization Function
def classify_and_visualize(image_path, algorithm):
    # Load the image data
    image_data = load_single_tif_image(image_path)

    # Generate dummy labels for testing (you can replace this with actual labels)
    labels = np.array([0 if i % 2 == 0 else 1 for i in range(image_data.shape[0])])

    # Compute means and covariances for each class
    means = [np.mean(image_data[labels == i], axis=0) for i in np.unique(labels)]
    covariances = [np.cov(image_data[labels == i].T) for i in np.unique(labels)]

    # Regularize covariance matrices
    epsilon = 1e-6
    covariances = [cov + epsilon * np.eye(cov.shape[0]) for cov in covariances]

    # Perform classification
    if algorithm == "MLC":
        classified_labels = maximum_likelihood_classifier(image_data, means, covariances)
    elif algorithm == "MDC":
        classified_labels = minimum_distance_classifier(image_data, means)
    else:
        raise ValueError("Unsupported algorithm selected.")

    # Visualize the results (using first two features if available)
    fig, ax = plt.subplots(figsize=(7, 7))
    if image_data.shape[1] > 1:
        scatter = ax.scatter(image_data[:, 0], image_data[:, 1], c=classified_labels, cmap='viridis', alpha=0.7)
        ax.set_title(f"{algorithm} Classification Results")
        ax.set_xlabel("Feature 1")
        ax.set_ylabel("Feature 2")
    else:
        raise ValueError("Image must have at least two features for visualization.")

    plt.colorbar(scatter, ax=ax, label="Class Label")
    plt.tight_layout()
    
    return fig

# Gradio Interface
def gradio_interface(image, algorithm):
    # Classify and visualize
    fig = classify_and_visualize(image, algorithm)

    # Save the figure to a file
    output_path = "output.png"
    fig.savefig(output_path)
    plt.close(fig)

    return output_path

# Set up Gradio UI
interface = gr.Interface(
    fn=gradio_interface,
    inputs=[
        gr.File(label="Upload .tif Image", file_types=[".tif"]),
        gr.Radio(["MLC", "MDC"], label="Select Classification Algorithm")
    ],
    outputs=gr.Image(type="filepath", label="Classified Image Output"),
    title="Image Classification Tool",
    description="Upload a .tif image and select a classification algorithm (MLC or MDC) to visualize the results."
)

# Launch Gradio Interface
interface.launch()
